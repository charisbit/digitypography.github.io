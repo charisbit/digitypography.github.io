{
 "cells": [
  {
   "cell_type": "markdown",
   "metadata": {},
   "source": [
    "## Browser Side"
   ]
  },
  {
   "cell_type": "code",
   "execution_count": null,
   "metadata": {},
   "outputs": [],
   "source": [
    "cat << EOF > ~/digitypography/themes/freemind/source/js/twitter.js\n",
    "var twitter = (function() {\n",
    "  function escapeHtml(str) {\n",
    "    return \\$('<div/>').text(str).html();\n",
    "  }\n",
    "  function render(target, tweets) {\n",
    "    var i = 0, fragment = '', t = \\$(target)[0];\n",
    "\n",
    "    for(i = 0; i < tweets.length; ++i) {\n",
    "      fragment += '<li><i class=\"fa fa-star\"></i><a href=\"https://twitter.com/charisbit/status/' + tweets[i].id + '\">'\n",
    "          + tweets[i].created_at.replace('T', '　').replace('.000Z', '　UTC') + '</a><p>' + escapeHtml(tweets[i].text||'') + '</p></li>';\n",
    "    }\n",
    "    t.innerHTML = fragment;\n",
    "  }\n",
    "  return {\n",
    "    showTweets: function(options) {\n",
    "      options.blacklist = options.blacklist.split(',');\n",
    "      \\$.ajax({\n",
    "          url: 'https://jhub.name/typography/?tweet.fields=created_at&max_results=' + options.count\n",
    "        , dataType: 'json'\n",
    "        , error: function (err) { \\$(options.target + ' li.loading').addClass('error').text('Error loading feed'); }\n",
    "        , success: function (data) {\n",
    "          if (!data ) { return; }\n",
    "          var tweets = [];\n",
    "          for (var i = 0; i < data.data.length; ++i) {\n",
    "            if (options.blacklist instanceof Array && options.blacklist.indexOf(data.data[i].id) !== -1) { continue; }\n",
    "            tweets.push(data.data[i]);\n",
    "          }\n",
    "          render(options.target, tweets);\n",
    "        }\n",
    "      });\n",
    "    }\n",
    "  };\n",
    "})();\n",
    "EOF"
   ]
  },
  {
   "cell_type": "markdown",
   "metadata": {},
   "source": [
    "## Server Side"
   ]
  },
  {
   "cell_type": "markdown",
   "metadata": {},
   "source": [
    "* https://developer.twitter.com/en/docs/twitter-api/users/lookup/api-reference"
   ]
  },
  {
   "cell_type": "code",
   "execution_count": null,
   "metadata": {},
   "outputs": [
    {
     "name": "stdout",
     "output_type": "stream",
     "text": [
      "{\"data\":{\"name\":\"Charis\",\"username\":\"charisbit\",\"created_at\":\"2022-02-28T13:05:23.000Z\",\"id\":\"1498283136295211010\"}}"
     ]
    }
   ],
   "source": [
    "curl -H \"Authorization: Bearer ${BEARER_TOKEN}\" 'https://api.twitter.com/2/users/by/username/charisbit?user.fields=created_at'"
   ]
  },
  {
   "cell_type": "markdown",
   "metadata": {},
   "source": [
    "* https://developer.twitter.com/en/docs/twitter-api/tweets/timelines/api-reference/get-users-id-tweets"
   ]
  },
  {
   "cell_type": "code",
   "execution_count": null,
   "metadata": {},
   "outputs": [
    {
     "name": "stdout",
     "output_type": "stream",
     "text": [
      "{\"meta\":{\"result_count\":0}}"
     ]
    }
   ],
   "source": [
    "curl -H \"Authorization: Bearer ${BEARER_TOKEN}\" 'https://api.twitter.com/2/users/1498283136295211010/tweets?tweet.fields=created_at&max_results=10'"
   ]
  },
  {
   "cell_type": "markdown",
   "metadata": {},
   "source": [
    "* My solution using [Traefik](https://doc.traefik.io/traefik/v1.7/basics/#custom-headers) to proxy Tweets API"
   ]
  },
  {
   "cell_type": "code",
   "execution_count": null,
   "metadata": {},
   "outputs": [],
   "source": [
    "cat << EOF | sudo tee /opt/tljh/state/dynamic/typography.toml > /dev/null\n",
    "\n",
    "[frontends.typography]\n",
    "backend = \"typography\"\n",
    "\n",
    "[frontends.typography.routes.r1]\n",
    "rule = \"PathPrefix:/typography/\"\n",
    "\n",
    "[frontends.typography.routes.r2]\n",
    "rule = \"ReplacePath:/2/users/1498283136295211010/tweets\"\n",
    "\n",
    "[frontends.typography.headers.customrequestheaders]\n",
    "Authorization = \"Bearer ${BEARER_TOKEN}\"\n",
    "\n",
    "[frontends.typography.headers.customresponseheaders]\n",
    "Access-Control-Allow-Origin = \"*\"\n",
    "\n",
    "[backends.typography.servers.s1]\n",
    "url = \"https://api.twitter.com\"\n",
    "weight = 1\n",
    "\n",
    "EOF"
   ]
  },
  {
   "cell_type": "code",
   "execution_count": null,
   "metadata": {},
   "outputs": [],
   "source": [
    "sudo systemctl restart traefik"
   ]
  },
  {
   "cell_type": "code",
   "execution_count": null,
   "metadata": {},
   "outputs": [
    {
     "name": "stdout",
     "output_type": "stream",
     "text": [
      "{\"data\":[{\"created_at\":\"2022-02-28T14:15:00.000Z\",\"id\":\"1498300708893835264\",\"text\":\"$GoodBit is designed to measure the meaningfulness for bits. The average $GoodBit of each bit of contents of NFTs of corresponding Copy and Quote License Tokens is stabilized at 1 $GoodBit, so that 1 $GoodBit can be used to pay for copying and quoting 1 bit on average.\"}],\"meta\":{\"oldest_id\":\"1498300708893835264\",\"newest_id\":\"1498300708893835264\",\"result_count\":1}}"
     ]
    }
   ],
   "source": [
    "curl 'https://jhub.name/typography/?tweet.fields=created_at&max_results=10'"
   ]
  }
 ],
 "metadata": {
  "kernelspec": {
   "display_name": "Bash",
   "language": "bash",
   "name": "bash"
  }
 },
 "nbformat": 4,
 "nbformat_minor": 4
}
