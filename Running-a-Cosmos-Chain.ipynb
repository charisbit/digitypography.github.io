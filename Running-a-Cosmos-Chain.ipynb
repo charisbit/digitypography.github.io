{
 "cells": [
  {
   "cell_type": "markdown",
   "metadata": {},
   "source": [
    "## [Running a Cosmos Chain](https://tutorials.cosmos.network/academy/3-running-a-chain)\n",
    "### [Running a Node, API, and CLI](https://tutorials.cosmos.network/academy/3-running-a-chain/node-api-and-cli.html)\n",
    "* https://github.com/cosmos/cosmos-sdk/tree/master/simapp"
   ]
  },
  {
   "cell_type": "markdown",
   "metadata": {},
   "source": [
    "## [My Own Cosmos Chain](https://tutorials.cosmos.network/academy/4-my-own-chain)\n",
    "* https://github.com/ignite-hq/cli"
   ]
  },
  {
   "cell_type": "markdown",
   "metadata": {},
   "source": [
    "## [Main Concepts](https://tutorials.cosmos.network/academy/2-main-concepts)\n",
    "\n",
    "The Tendermint Core is a blockchain application platform. Tendermint Core supports state machines in any language. The language-agnostic Tendermint Core helps developers securely and consistently replicate deterministic, finite state machines.\n",
    "\n",
    "Tendermint BFT is maintained even when 1/3 of all machines fail by providing two components:\n",
    "\n",
    "* A blockchain consensus engine\n",
    "* A generic application interface"
   ]
  }
 ],
 "metadata": {
  "kernelspec": {
   "display_name": "Python 3",
   "language": "python",
   "name": "python3"
  },
  "language_info": {
   "codemirror_mode": {
    "name": "ipython",
    "version": 3
   },
   "file_extension": ".py",
   "mimetype": "text/x-python",
   "name": "python",
   "nbconvert_exporter": "python",
   "pygments_lexer": "ipython3",
   "version": "3.6.7"
  }
 },
 "nbformat": 4,
 "nbformat_minor": 4
}
