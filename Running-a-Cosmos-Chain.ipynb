{
 "cells": [
  {
   "cell_type": "markdown",
   "metadata": {},
   "source": [
    "## [Running a Cosmos Chain](https://tutorials.cosmos.network/academy/3-running-a-chain/)"
   ]
  },
  {
   "cell_type": "markdown",
   "metadata": {},
   "source": [
    "### [Running a Node, API, and CLI](https://tutorials.cosmos.network/academy/3-running-a-chain/node-api-and-cli.html)"
   ]
  }
 ],
 "metadata": {
  "kernelspec": {
   "display_name": "Python 3",
   "language": "python",
   "name": "python3"
  }
 },
 "nbformat": 4,
 "nbformat_minor": 4
}
